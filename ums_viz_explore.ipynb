{
 "cells": [
  {
   "cell_type": "code",
   "execution_count": 108,
   "metadata": {
    "collapsed": false
   },
   "outputs": [],
   "source": [
    "import pandas as pd\n",
    "import numpy as np\n",
    "import matplotlib.pyplot as plt\n",
    "import datetime\n",
    "%matplotlib inline\n",
    "\n",
    "# Read in the data, reading in a few columns as datetime objects\n",
    "tbl = pd.read_csv('data/ums_viz.csv', parse_dates = [1, 4, 12])"
   ]
  },
  {
   "cell_type": "code",
   "execution_count": 69,
   "metadata": {
    "collapsed": false
   },
   "outputs": [
    {
     "name": "stdout",
     "output_type": "stream",
     "text": [
      "   UMS_acct_no acct_created  cust_type             perf_name  \\\n",
      "0         1111   1979-08-06  Household   The Infernal Comedy   \n",
      "1         1111   1979-08-06  Household      Yuja Wang, piano   \n",
      "2         1111   1979-08-06  Household   London Philharmonic   \n",
      "3         1111   1979-08-06  Household      Hamburg Symphony   \n",
      "4         1111   1979-08-06  Household  Chicago Symphony Orc   \n",
      "\n",
      "              perf_dt  tck_amt  num_seats            venue    price_type  \\\n",
      "0 2011-10-01 20:00:00      112          2  Hill Auditorium  Choral Union   \n",
      "1 2011-10-09 16:00:00       80          2  Hill Auditorium  Choral Union   \n",
      "2 2011-12-06 19:30:00      112          2  Hill Auditorium  Choral Union   \n",
      "3 2012-01-29 16:00:00       92          2  Hill Auditorium  Choral Union   \n",
      "4 2012-03-09 20:00:00      140          2  Hill Auditorium  Choral Union   \n",
      "\n",
      "  price_type_group  mode_of_sale sales_channel   order_dt postal_code  \n",
      "0      Subs Prices  Subscription           Fax 2011-05-31       48103  \n",
      "1      Subs Prices  Subscription           Fax 2011-05-31       48103  \n",
      "2      Subs Prices  Subscription           Fax 2011-05-31       48103  \n",
      "3      Subs Prices  Subscription           Fax 2011-05-31       48103  \n",
      "4      Subs Prices  Subscription           Fax 2011-05-31       48103  \n"
     ]
    }
   ],
   "source": [
    "# Each row corresponds to a single transaction\n",
    "print tbl.head()"
   ]
  },
  {
   "cell_type": "code",
   "execution_count": 70,
   "metadata": {
    "collapsed": false,
    "scrolled": true
   },
   "outputs": [
    {
     "name": "stdout",
     "output_type": "stream",
     "text": [
      "Columns:\n",
      "\t     UMS_acct_no : int64\n",
      "\t    acct_created : datetime64[ns]\n",
      "\t       cust_type : object\n",
      "\t       perf_name : object\n",
      "\t         perf_dt : datetime64[ns]\n",
      "\t         tck_amt : float64\n",
      "\t       num_seats : int64\n",
      "\t           venue : object\n",
      "\t      price_type : object\n",
      "\tprice_type_group : object\n",
      "\t    mode_of_sale : object\n",
      "\t   sales_channel : object\n",
      "\t        order_dt : datetime64[ns]\n",
      "\t     postal_code : object\n"
     ]
    }
   ],
   "source": [
    "# Take a look at the columns and their data types\n",
    "print \"Columns:\"\n",
    "for col in tbl.columns.tolist():\n",
    "    print \"\\t%16s\" % col + \" : \" + str(tbl[col].dtype)"
   ]
  },
  {
   "cell_type": "code",
   "execution_count": 71,
   "metadata": {
    "collapsed": false
   },
   "outputs": [
    {
     "name": "stdout",
     "output_type": "stream",
     "text": [
      "            acct_created  cust_type\n",
      "UMS_acct_no                        \n",
      "1111          1979-08-06  Household\n",
      "1115          1988-02-18  Household\n",
      "1122          1988-02-10  Household\n",
      "1130          1988-02-26  Household\n",
      "1131          1988-02-26  Household\n"
     ]
    }
   ],
   "source": [
    "# From this table we can derive an account-level table\n",
    "\n",
    "acc_tbl = tbl[['UMS_acct_no', 'acct_created', 'cust_type']]\n",
    "acc_tbl = acc_tbl.drop_duplicates()\n",
    "acc_tbl = acc_tbl.set_index('UMS_acct_no')\n",
    "\n",
    "print acc_tbl.head()"
   ]
  },
  {
   "cell_type": "code",
   "execution_count": 86,
   "metadata": {
    "collapsed": false
   },
   "outputs": [
    {
     "name": "stdout",
     "output_type": "stream",
     "text": [
      "            acct_created  cust_type  num_purchases  total_purchase_amt  \\\n",
      "UMS_acct_no                                                              \n",
      "1111          1979-08-06  Household             29                3008   \n",
      "1115          1988-02-18  Household             33                4066   \n",
      "1122          1988-02-10  Household              1                 200   \n",
      "1130          1988-02-26  Household              8                 652   \n",
      "1131          1988-02-26  Household             20                2616   \n",
      "\n",
      "             max_purchase_amt  avg_seat_amt most_recent_purchase  \\\n",
      "UMS_acct_no                                                        \n",
      "1111                      150     54.690909  2014-04-13 16:00:00   \n",
      "1115                      184     66.655738  2014-04-13 16:00:00   \n",
      "1122                      200    100.000000  2012-09-27 19:30:00   \n",
      "1130                      130     43.466667  2013-12-08 14:00:00   \n",
      "1131                      182     65.400000  2013-04-20 20:00:00   \n",
      "\n",
      "                 first_purchase  avg_purchase_amt  total_seat_amt  \\\n",
      "UMS_acct_no                                                         \n",
      "1111        2011-10-01 20:00:00        103.724138              55   \n",
      "1115        2011-10-01 20:00:00        123.212121              61   \n",
      "1122        2012-09-27 19:30:00        200.000000               2   \n",
      "1130        2012-02-18 20:00:00         81.500000              15   \n",
      "1131        2011-10-01 20:00:00        130.800000              40   \n",
      "\n",
      "             total_num_seats  \n",
      "UMS_acct_no                   \n",
      "1111                      55  \n",
      "1115                      61  \n",
      "1122                       2  \n",
      "1130                      15  \n",
      "1131                      40  \n"
     ]
    }
   ],
   "source": [
    "# We can aggregate some purchase-level statistics for each account\n",
    "\n",
    "grpAcct = tbl.groupby('UMS_acct_no')\n",
    "\n",
    "acc_tbl['num_purchases']        = grpAcct['acct_created'].count() # any var works here, just need the count\n",
    "acc_tbl['total_purchase_amt']   = grpAcct['tck_amt'].sum()\n",
    "acc_tbl['max_purchase_amt']     = grpAcct['tck_amt'].max()\n",
    "acc_tbl['avg_purchase_amt']     = grpAcct['tck_amt'].mean()\n",
    "acc_tbl['total_num_seats']      = grpAcct['num_seats'].sum()\n",
    "acc_tbl['avg_seat_amt']         = grpAcct['tck_amt'].sum() / grpAcct['num_seats'].sum()\n",
    "acc_tbl['most_recent_purchase'] = grpAcct['perf_dt'].max()\n",
    "acc_tbl['first_purchase']       = grpAcct['perf_dt'].min()\n",
    "\n",
    "print acc_tbl.head()"
   ]
  },
  {
   "cell_type": "code",
   "execution_count": 87,
   "metadata": {
    "collapsed": false
   },
   "outputs": [
    {
     "name": "stdout",
     "output_type": "stream",
     "text": [
      "Number of ticket purchases:                104737\n",
      "Number of unique UMS accounts:             30325\n",
      "Maximum no. of purchases on one account:   358\n",
      "Fraction of accts with just one purchase:  0.562374278648\n",
      "Mean number of purchases per account:      3.45381698269\n"
     ]
    }
   ],
   "source": [
    "# Show some interesting aggregate statistics\n",
    "\n",
    "no_orders = len(tbl)\n",
    "no_accts = len(acc_tbl)\n",
    "no_purchases_by_acct  = tbl['UMS_acct_no'].value_counts()\n",
    "no_accts_by_no_purchases = no_purchases_by_acct.value_counts()\n",
    "\n",
    "print \"Number of ticket purchases:                  \", len(tbl)\n",
    "print \"Number of unique UMS accounts:               \", len(acc_tbl)\n",
    "print \"Maximum no. of purchases on one account:     \", np.max(acc_tbl['num_purchases'])\n",
    "print \"Fraction of accts with just one transaction: \", np.mean(acc_tbl['num_purchases']==1)\n",
    "print \"Mean number of purchases per account:        \", np.mean(acc_tbl['num_purchases'])"
   ]
  },
  {
   "cell_type": "code",
   "execution_count": 97,
   "metadata": {
    "collapsed": false
   },
   "outputs": [
    {
     "data": {
      "image/png": "[encoded data removed]",
      "text/plain": [
       "<matplotlib.figure.Figure at 0x7ff2ab1b0cd0>"
      ]
     },
     "metadata": {},
     "output_type": "display_data"
    },
    {
     "name": "stdout",
     "output_type": "stream",
     "text": [
      "Number of people with >50 transactions: 123\n"
     ]
    }
   ],
   "source": [
    "# How many tickets do people buy?\n",
    "\n",
    "plt.hist(acc_tbl['num_purchases'][acc_tbl['num_purchases']<=50].values, bins=50)\n",
    "plt.title('Distribution of # of transactions per acct')\n",
    "plt.xlabel('Number of transactions')\n",
    "plt.ylabel('Number of accts')\n",
    "plt.show()\n",
    "\n",
    "print \"Number of people with >50 transactions:\", (acc_tbl['num_purchases']>50).sum()"
   ]
  },
  {
   "cell_type": "code",
   "execution_count": 99,
   "metadata": {
    "collapsed": false
   },
   "outputs": [
    {
     "data": {
      "image/png": "[encoded data removed]",
      "text/plain": [
       "<matplotlib.figure.Figure at 0x7ff2ab1d8310>"
      ]
     },
     "metadata": {},
     "output_type": "display_data"
    }
   ],
   "source": [
    "# How long have these accounts been around?\n",
    "\n",
    "acc_tbl['acct_created'].groupby(acc_tbl['acct_created'].dt.year).count().plot(kind=\"bar\")\n",
    "plt.xlabel('year')\n",
    "plt.ylabel('number of accts created')\n",
    "plt.show()"
   ]
  },
  {
   "cell_type": "code",
   "execution_count": 123,
   "metadata": {
    "collapsed": false
   },
   "outputs": [
    {
     "data": {
      "image/png": "[encoded data removed]",
      "text/plain": [
       "<matplotlib.figure.Figure at 0x7ff2b0dd0390>"
      ]
     },
     "metadata": {},
     "output_type": "display_data"
    },
    {
     "data": {
      "image/png": "[encoded data removed]",
      "text/plain": [
       "<matplotlib.figure.Figure at 0x7ff2ab26b7d0>"
      ]
     },
     "metadata": {},
     "output_type": "display_data"
    },
    {
     "data": {
      "image/png": "[encoded data removed]",
      "text/plain": [
       "<matplotlib.figure.Figure at 0x7ff2ab1861d0>"
      ]
     },
     "metadata": {},
     "output_type": "display_data"
    }
   ],
   "source": [
    "# When do transactions occur?\n",
    "\n",
    "tbl['order_dt'].groupby(tbl['order_dt'].dt.year).count().plot(kind=\"bar\")\n",
    "plt.xlabel('year')\n",
    "plt.ylabel('number of transacions')\n",
    "plt.show()\n",
    "\n",
    "ax = tbl['order_dt'].groupby(tbl['order_dt'].dt.month).count().plot(kind=\"bar\")\n",
    "plt.xlabel('month')\n",
    "plt.ylabel('number of transactions')\n",
    "month_list = [datetime.date.strftime(datetime.date(year=1900, month=x, day = 1),'%b') for x in range(1,13)]\n",
    "ax.set_xticklabels(month_list)\n",
    "plt.show()\n",
    "\n",
    "tbl['order_dt'].groupby(tbl['order_dt'].dt.hour).count().plot(kind=\"bar\")\n",
    "plt.xlabel('hour')\n",
    "plt.ylabel('number of transactions')\n",
    "plt.show()"
   ]
  },
  {
   "cell_type": "code",
   "execution_count": 127,
   "metadata": {
    "collapsed": false
   },
   "outputs": [
    {
     "data": {
      "image/png": "[encoded data removed]",
      "text/plain": [
       "<matplotlib.figure.Figure at 0x7ff2aa3c3f10>"
      ]
     },
     "metadata": {},
     "output_type": "display_data"
    },
    {
     "name": "stdout",
     "output_type": "stream",
     "text": [
      "Number of transactions over $500: 193\n"
     ]
    }
   ],
   "source": [
    "# How expensive are transactions?\n",
    "\n",
    "plt.hist(tbl['tck_amt'].loc[tbl['tck_amt']<=500], bins=50)\n",
    "plt.xlabel('Transaction amount')\n",
    "plt.ylabel('Number of purchases')\n",
    "plt.show()\n",
    "\n",
    "print 'Number of transactions over $500:', (tbl['tck_amt']>500).sum()"
   ]
  },
  {
   "cell_type": "code",
   "execution_count": 133,
   "metadata": {
    "collapsed": false
   },
   "outputs": [
    {
     "data": {
      "image/png": "[encoded data removed]",
      "text/plain": [
       "<matplotlib.figure.Figure at 0x7ff2b0af6150>"
      ]
     },
     "metadata": {},
     "output_type": "display_data"
    },
    {
     "name": "stdout",
     "output_type": "stream",
     "text": [
      "Number of transactions over $150/seat: 1\n"
     ]
    }
   ],
   "source": [
    "# How expensive is each seat?\n",
    "\n",
    "norm_tck_price = tbl['tck_amt']/tbl['num_seats']\n",
    "\n",
    "plt.hist(norm_tck_price.loc[norm_tck_price <= 150], bins=50)\n",
    "plt.xlabel('Price of seat')\n",
    "plt.ylabel('Number of purchases')\n",
    "plt.show()\n",
    "\n",
    "print 'Number of transactions over $150/seat:', (norm_tck_price>150).sum()"
   ]
  },
  {
   "cell_type": "code",
   "execution_count": 61,
   "metadata": {
    "collapsed": false
   },
   "outputs": [
    {
     "data": {
      "text/plain": [
       "cust_type\n",
       "Household        2594\n",
       "Individual      27520\n",
       "Organization      211\n",
       "Name: cust_type, dtype: int64"
      ]
     },
     "execution_count": 61,
     "metadata": {},
     "output_type": "execute_result"
    }
   ],
   "source": [
    "# Let's look at some of the categorical variables\n",
    "\n",
    "acc_tbl.groupby('cust_type')['cust_type'].count()"
   ]
  },
  {
   "cell_type": "code",
   "execution_count": 62,
   "metadata": {
    "collapsed": false
   },
   "outputs": [
    {
     "data": {
      "text/plain": [
       "venue\n",
       "Arthur Miller Theatre              664\n",
       "Corner Brewery                     405\n",
       "Dance Club                          39\n",
       "Demo Theater                         5\n",
       "Downtown Home & Garden             280\n",
       "General Admission (Education)       54\n",
       "Hill Auditorium                  60539\n",
       "Lydia Mendelssohn Theatre          752\n",
       "Michigan Theater                  7806\n",
       "Music Hall                         175\n",
       "Performance Network                882\n",
       "Power Center                     21468\n",
       "Rackham Auditorium                9264\n",
       "St Andrew's Episcopal Church       280\n",
       "St. Francis of Assisi Church      2124\n",
       "Name: venue, dtype: int64"
      ]
     },
     "execution_count": 62,
     "metadata": {},
     "output_type": "execute_result"
    }
   ],
   "source": [
    "tbl.groupby('venue')['venue'].count()"
   ]
  },
  {
   "cell_type": "code",
   "execution_count": 63,
   "metadata": {
    "collapsed": false
   },
   "outputs": [
    {
     "name": "stdout",
     "output_type": "stream",
     "text": [
      "price_type\n",
      "$10 Off                           472\n",
      "$10 off inc 1                      92\n",
      "$10 off inc 2                       6\n",
      "$5 Off                              4\n",
      "20% off                            22\n",
      "50% off                           176\n",
      "AARP Discount                       2\n",
      "Adult                           39204\n",
      "Adult inc 1                      2411\n",
      "Adult inc 2                      1305\n",
      "Adult inc 3                       414\n",
      "Arts & Eats                      1082\n",
      "Asia Series                        36\n",
      "Bert's Ticket                     220\n",
      "Buy one get one free               15\n",
      "Chamber Arts                     2748\n",
      "Child                             209\n",
      "Child Under 2                      14\n",
      "Choral Union                    10871\n",
      "Chorus Comp                        83\n",
      "Chorus Member                     557\n",
      "Comp                             5131\n",
      "Dance Series                     1219\n",
      "Discount                          627\n",
      "Discount 2                         93\n",
      "Discount Student                   12\n",
      "Divine Voices                     259\n",
      "Door Rush Tickets                 645\n",
      "Global Series                     116\n",
      "Google                             29\n",
      "                                ...  \n",
      "Group inc 1                        32\n",
      "Group inc 2                        12\n",
      "Group special                     302\n",
      "Jazz Series                       618\n",
      "Kids Club - Adult                 668\n",
      "Kids Club - Child                 680\n",
      "Marathon Series                    38\n",
      "Mavericks Pass                    138\n",
      "Michigan Theater Members          339\n",
      "National Theatre Live Series       40\n",
      "New Faculty                        79\n",
      "Newcomer                            1\n",
      "Passport to the Arts              220\n",
      "Rush Bucks                        583\n",
      "Rush Tickets - Senior            1011\n",
      "Rush Tickets - Student           4105\n",
      "Series: You                      9480\n",
      "Special Event                     108\n",
      "Staff Student                      95\n",
      "Staff Tickets                     351\n",
      "Student                           426\n",
      "Student Half Price               6496\n",
      "Student Half Price Sale          3001\n",
      "Take a Professor - Prof             5\n",
      "Take a Professor - Student          5\n",
      "Teacher Appreciation Month          6\n",
      "Theater Series                   1160\n",
      "UMS Donor or Sub                  331\n",
      "UMS Subscriber - Add On          4398\n",
      "UMS Usher                           8\n",
      "Name: price_type, dtype: int64\n",
      "Number of price types: 69\n"
     ]
    }
   ],
   "source": [
    "print tbl.groupby('price_type')['price_type'].count()\n",
    "\n",
    "print \"Number of price types:\", len(np.unique(tbl['price_type']))"
   ]
  },
  {
   "cell_type": "code",
   "execution_count": 64,
   "metadata": {
    "collapsed": false
   },
   "outputs": [
    {
     "name": "stdout",
     "output_type": "stream",
     "text": [
      "price_type_group\n",
      "Comps                  5307\n",
      "Discounted Prices      2690\n",
      "Group Prices           1971\n",
      "Promotional Prices     2943\n",
      "Regular Prices        43651\n",
      "Student Prices        17192\n",
      "Subs Prices           30983\n",
      "Name: price_type_group, dtype: int64\n"
     ]
    }
   ],
   "source": [
    "print tbl.groupby('price_type_group')['price_type_group'].count()"
   ]
  },
  {
   "cell_type": "code",
   "execution_count": 65,
   "metadata": {
    "collapsed": false
   },
   "outputs": [
    {
     "name": "stdout",
     "output_type": "stream",
     "text": [
      "mode_of_sale\n",
      "Arts and Eats                      578\n",
      "Bert's Ticket                      220\n",
      "Door Rush Tickets                  261\n",
      "Education                           10\n",
      "Group Promotions                    72\n",
      "Group Sales                       2391\n",
      "Night of Show                     1717\n",
      "Phone/Mail                       11368\n",
      "Rush Bucks Tickets                 399\n",
      "Rush Tickets                      3284\n",
      "Single Return/Exchange             724\n",
      "Student Half Price                4838\n",
      "Subs Return/Exchange              1946\n",
      "Subscription                     28559\n",
      "UMS 48 hr Return/Exchange           86\n",
      "UMS Dept Requests                 4056\n",
      "Walk Up                          11203\n",
      "Web - UMS - $10 off                108\n",
      "Web - UMS - $5 off                  60\n",
      "Web - UMS - 25% off                146\n",
      "Web - UMS - AARP                     2\n",
      "Web - UMS - Arts and Eats          464\n",
      "Web - UMS - BOGO                     3\n",
      "Web - UMS - CU Rush                196\n",
      "Web - UMS - Discounts              721\n",
      "Web - UMS - Donor Onsale            60\n",
      "Web - UMS - EDA                      7\n",
      "Web - UMS - GS Discount 1           38\n",
      "Web - UMS - GS Discount 2           79\n",
      "Web - UMS - GS Discount 3           14\n",
      "Web - UMS - GS Discount 4           88\n",
      "Web - UMS - GS Discount 5           43\n",
      "Web - UMS - GS Discount 6           25\n",
      "Web - UMS - GS Discount 7            8\n",
      "Web - UMS - GS Discount 8           15\n",
      "Web - UMS - GS Discount 9            9\n",
      "Web - UMS - Google                  28\n",
      "Web - UMS - Half Price Sale       4697\n",
      "Web - UMS - Senior Rush            304\n",
      "Web - UMS - Single               22211\n",
      "Web - UMS - SpecialHalf Price       33\n",
      "Web - UMS - Student Rush          1314\n",
      "Web - UMS - Subscription          2352\n",
      "Name: mode_of_sale, dtype: int64\n"
     ]
    }
   ],
   "source": [
    "print tbl.groupby('mode_of_sale')['mode_of_sale'].count()"
   ]
  },
  {
   "cell_type": "code",
   "execution_count": 66,
   "metadata": {
    "collapsed": false
   },
   "outputs": [
    {
     "name": "stdout",
     "output_type": "stream",
     "text": [
      "sales_channel\n",
      "Comp Form                   461\n",
      "Customer Service Issue     3204\n",
      "E-Mail                      651\n",
      "Fax                         195\n",
      "Google form                 221\n",
      "In-Person (Devo)             34\n",
      "Mail                       3784\n",
      "Night of Show - Venue      1982\n",
      "Order Import                 17\n",
      "Phone                     34643\n",
      "UM-OUD                        1\n",
      "Walk Up - League          22630\n",
      "Web-Cybersource            1072\n",
      "Web-TNEW                  33641\n",
      "ums.org                    2201\n",
      "Name: sales_channel, dtype: int64\n"
     ]
    }
   ],
   "source": [
    "print tbl.groupby('sales_channel')['sales_channel'].count()"
   ]
  }
 ],
 "metadata": {
  "kernelspec": {
   "display_name": "Python 2",
   "language": "python",
   "name": "python2"
  },
  "language_info": {
   "codemirror_mode": {
    "name": "ipython",
    "version": 2
   },
   "file_extension": ".py",
   "mimetype": "text/x-python",
   "name": "python",
   "nbconvert_exporter": "python",
   "pygments_lexer": "ipython2",
   "version": "2.7.10"
  }
 },
 "nbformat": 4,
 "nbformat_minor": 0
}
